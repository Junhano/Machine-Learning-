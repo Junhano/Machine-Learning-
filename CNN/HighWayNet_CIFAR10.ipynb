{
  "nbformat": 4,
  "nbformat_minor": 0,
  "metadata": {
    "colab": {
      "name": "HighWayNet_CIFAR10.ipynb",
      "provenance": []
    },
    "kernelspec": {
      "name": "python3",
      "display_name": "Python 3"
    },
    "language_info": {
      "name": "python"
    },
    "accelerator": "GPU"
  },
  "cells": [
    {
      "cell_type": "code",
      "metadata": {
        "id": "H772N-s2zGvC"
      },
      "source": [
        "import torch\n",
        "import torch.nn as nn\n",
        "import torch.optim as optim\n",
        "from torchvision import transforms, datasets\n",
        "from torch.utils.data import DataLoader\n",
        "import matplotlib.pyplot as plt\n"
      ],
      "execution_count": 1,
      "outputs": []
    },
    {
      "cell_type": "code",
      "metadata": {
        "id": "Wl39CpF8zurx"
      },
      "source": [
        "def same_padding(kernel_size):\n",
        "  import math\n",
        "  return math.floor((kernel_size - 1) / 2)"
      ],
      "execution_count": 2,
      "outputs": []
    },
    {
      "cell_type": "code",
      "metadata": {
        "id": "sSJ6M70MzSt-"
      },
      "source": [
        "class HighWayBlock(nn.Module):\n",
        "  def __init__(self, input_channel, output_channel, kernel_size = 3):\n",
        "    super(HighWayBlock, self).__init__()\n",
        "    self.input_channel = input_channel\n",
        "    self.output_channel = output_channel\n",
        "    self.conv1 = nn.Conv2d(input_channel, input_channel, kernel_size=kernel_size, padding=same_padding(kernel_size))\n",
        "    self.conv2 = nn.Conv2d(input_channel, output_channel, kernel_size=kernel_size, padding=same_padding(kernel_size))\n",
        "    self.T = nn.Sequential(nn.Conv2d(input_channel, output_channel, kernel_size=3, padding=same_padding(3)), nn.Sigmoid())\n",
        "    self.skip = nn.Conv2d(input_channel, output_channel, kernel_size=1)\n",
        "    self.batchnorm1 = nn.BatchNorm2d(input_channel)\n",
        "    self.batchnorm2 = nn.BatchNorm2d(output_channel)\n",
        "    self.leakyrelu = nn.LeakyReLU(0.2)\n",
        "\n",
        "\n",
        "  def forward(self, x):\n",
        "    T = self.T(x)\n",
        "    residual = x\n",
        "    if self.input_channel != self.output_channel:\n",
        "      residual = self.skip(residual)\n",
        "    \n",
        "    out = self.conv1(x)\n",
        "    out = self.batchnorm1(out)\n",
        "    out = self.leakyrelu(out)\n",
        "    out = self.conv2(x)\n",
        "\n",
        "    out = T * out + (1 - T) * residual\n",
        "    out = self.batchnorm2(out)\n",
        "    out = self.leakyrelu(out)\n",
        "    \n",
        "    return out"
      ],
      "execution_count": 3,
      "outputs": []
    },
    {
      "cell_type": "code",
      "metadata": {
        "id": "xHKpK3UW3LXZ"
      },
      "source": [
        "class HighWayNet(nn.Module):\n",
        "  def __init__(self):\n",
        "    super(HighWayNet, self).__init__()\n",
        "    self.hw1 = HighWayBlock(3, 16)\n",
        "    self.hw2 = HighWayBlock(16, 32)\n",
        "    self.hw3 = HighWayBlock(32, 64)\n",
        "    self.hw4 = HighWayBlock(64, 128)\n",
        "    self.hw5 = HighWayBlock(128, 256)\n",
        "    self.hw6 = HighWayBlock(256, 128)\n",
        "    self.maxpool = nn.MaxPool2d(2)\n",
        "    self.flatten = nn.Flatten()\n",
        "    self.linear1 = nn.Linear(2048, 128)\n",
        "    self.linear2 = nn.Linear(128, 10)\n",
        "    self.batchnorm1d = nn.BatchNorm1d(128)\n",
        "    self.relu = nn.ReLU()\n",
        "  \n",
        "  def forward(self, x):\n",
        "    out = self.hw1(x)\n",
        "    out = self.hw2(out)\n",
        "    out = self.maxpool(out)\n",
        "    out = self.hw3(out)\n",
        "    out = self.hw4(out)\n",
        "    out = self.maxpool(out)\n",
        "    out = self.hw5(out)\n",
        "    out = self.maxpool(out)\n",
        "    out = self.hw6(out)\n",
        "    out = self.flatten(out)\n",
        "    out = self.linear1(out)\n",
        "    out = self.relu(out)\n",
        "    out = self.batchnorm1d(out)\n",
        "    out = self.linear2(out)\n",
        "    \n",
        "    return out"
      ],
      "execution_count": 4,
      "outputs": []
    },
    {
      "cell_type": "code",
      "metadata": {
        "id": "ifhKvbcU7XZr"
      },
      "source": [
        "T = transforms.Compose([\n",
        "    transforms.RandomCrop(32),\n",
        "    transforms.RandomRotation(30),\n",
        "    transforms.ToTensor(),\n",
        "    transforms.Normalize(0, 1) \n",
        "])"
      ],
      "execution_count": 5,
      "outputs": []
    },
    {
      "cell_type": "code",
      "metadata": {
        "colab": {
          "base_uri": "https://localhost:8080/"
        },
        "id": "KLbBRqtH9AMA",
        "outputId": "6913d26b-887d-474e-ad54-64a7f8964f76"
      },
      "source": [
        "CIFAR10_train = datasets.CIFAR10('./', transform=T, download = True)\n",
        "CIFAR10_test = datasets.CIFAR10('./', train=False, transform=T, download=True)"
      ],
      "execution_count": 6,
      "outputs": [
        {
          "output_type": "stream",
          "text": [
            "Files already downloaded and verified\n",
            "Files already downloaded and verified\n"
          ],
          "name": "stdout"
        }
      ]
    },
    {
      "cell_type": "code",
      "metadata": {
        "id": "Qs-PdbpQ9iB9"
      },
      "source": [
        "traindataloader = DataLoader(CIFAR10_train, batch_size=50, shuffle=True)\n",
        "testdataloader = DataLoader(CIFAR10_test, batch_size=50)"
      ],
      "execution_count": 7,
      "outputs": []
    },
    {
      "cell_type": "code",
      "metadata": {
        "colab": {
          "base_uri": "https://localhost:8080/"
        },
        "id": "rBxsqcmH91Zb",
        "outputId": "aa335a20-b3de-40cb-eeec-effd790c0c7d"
      },
      "source": [
        "device = 'cuda:0' if torch.cuda.is_available() else 'cpu'\n",
        "print(device)"
      ],
      "execution_count": 8,
      "outputs": [
        {
          "output_type": "stream",
          "text": [
            "cuda:0\n"
          ],
          "name": "stdout"
        }
      ]
    },
    {
      "cell_type": "code",
      "metadata": {
        "id": "WbXT9X7x95iM"
      },
      "source": [
        "HWModel = HighWayNet().to(device)\n",
        "criterion = nn.CrossEntropyLoss()\n",
        "learning_rate = 0.001\n",
        "optimM = optim.Adam(HWModel.parameters(), lr=learning_rate)"
      ],
      "execution_count": 9,
      "outputs": []
    },
    {
      "cell_type": "code",
      "metadata": {
        "colab": {
          "base_uri": "https://localhost:8080/"
        },
        "id": "rGN4pJAZ-9hI",
        "outputId": "02d6f71e-8590-4029-e8c7-a4c458766bef"
      },
      "source": [
        "epochs = 30\n",
        "loss_track = []\n",
        "\n",
        "for epoch in range(epochs):\n",
        "  loss = 0\n",
        "  counter = 0\n",
        "  for _, (images, label) in enumerate(traindataloader):\n",
        "    images = images.to(device)\n",
        "    label = label.to(device)\n",
        "\n",
        "    output = HWModel(images)\n",
        "    mloss = criterion(output, label)\n",
        "    loss += mloss.item()\n",
        "    counter += 1\n",
        "    optimM.zero_grad()\n",
        "    mloss.backward()\n",
        "    optimM.step()\n",
        "  loss_track.append(loss / counter)\n",
        "  if (epoch + 1) % 20 == 0:\n",
        "    learning_rate /= 3\n",
        "    for g in optimM.param_groups:\n",
        "      g['lr'] = learning_rate\n",
        "  print('Epoch {} Finished'.format(epoch + 1))\n",
        "  print('loss is {}'.format(loss/counter))\n"
      ],
      "execution_count": 10,
      "outputs": [
        {
          "output_type": "stream",
          "text": [
            "Epoch 1 Finished\n",
            "loss is 1.2823998357653619\n",
            "Epoch 2 Finished\n",
            "loss is 0.9567531819343567\n",
            "Epoch 3 Finished\n",
            "loss is 0.8212230048775673\n",
            "Epoch 4 Finished\n",
            "loss is 0.7366290430128575\n",
            "Epoch 5 Finished\n",
            "loss is 0.6674085259437561\n",
            "Epoch 6 Finished\n",
            "loss is 0.6208449068367481\n",
            "Epoch 7 Finished\n",
            "loss is 0.6306311516463756\n",
            "Epoch 8 Finished\n",
            "loss is 0.5503493057191372\n",
            "Epoch 9 Finished\n",
            "loss is 0.49992990590631964\n",
            "Epoch 10 Finished\n",
            "loss is 0.4788127968460321\n",
            "Epoch 11 Finished\n",
            "loss is 0.44605768264830115\n",
            "Epoch 12 Finished\n",
            "loss is 0.4228722877800465\n",
            "Epoch 13 Finished\n",
            "loss is 0.40091678011417387\n",
            "Epoch 14 Finished\n",
            "loss is 0.3731024950221181\n",
            "Epoch 15 Finished\n",
            "loss is 0.3568075855746865\n",
            "Epoch 16 Finished\n",
            "loss is 0.3390925668552518\n",
            "Epoch 17 Finished\n",
            "loss is 0.3173164479769766\n",
            "Epoch 18 Finished\n",
            "loss is 0.3063904930204153\n",
            "Epoch 19 Finished\n",
            "loss is 0.2926217416971922\n",
            "Epoch 20 Finished\n",
            "loss is 0.27389105566591027\n",
            "Epoch 21 Finished\n",
            "loss is 0.19596085200831295\n",
            "Epoch 22 Finished\n",
            "loss is 0.16918101073987782\n",
            "Epoch 23 Finished\n",
            "loss is 0.15665226311609148\n",
            "Epoch 24 Finished\n",
            "loss is 0.1421588592082262\n",
            "Epoch 25 Finished\n",
            "loss is 0.13265003326907754\n",
            "Epoch 26 Finished\n",
            "loss is 0.12491755573265255\n",
            "Epoch 27 Finished\n",
            "loss is 0.12021748317731544\n",
            "Epoch 28 Finished\n",
            "loss is 0.11459969701804221\n",
            "Epoch 29 Finished\n",
            "loss is 0.10603249061806128\n",
            "Epoch 30 Finished\n",
            "loss is 0.10253259077016265\n"
          ],
          "name": "stdout"
        }
      ]
    },
    {
      "cell_type": "code",
      "metadata": {
        "id": "lL52G1bkA4jK",
        "colab": {
          "base_uri": "https://localhost:8080/"
        },
        "outputId": "31fe7636-e52f-4966-81c0-89666e6cfe8a"
      },
      "source": [
        "HWModel.eval()\n",
        "with torch.no_grad():\n",
        "  correct = 0\n",
        "  total = 0\n",
        "  for _, (images, label) in enumerate(testdataloader):\n",
        "    images = images.to(device)\n",
        "    label = label.to(device)\n",
        "\n",
        "    output = HWModel(images)\n",
        "    _,predict = torch.max(output, 1)\n",
        "    \n",
        "    total += len(label)\n",
        "    correct += (predict == label).sum().item()\n",
        "  \n",
        "  print('Accuracy is {}%'.format((correct / total) * 100))\n",
        "\n",
        "\n"
      ],
      "execution_count": 11,
      "outputs": [
        {
          "output_type": "stream",
          "text": [
            "Accuracy is 83.41%\n"
          ],
          "name": "stdout"
        }
      ]
    },
    {
      "cell_type": "code",
      "metadata": {
        "id": "hjXLT9PxBYnf",
        "colab": {
          "base_uri": "https://localhost:8080/",
          "height": 350
        },
        "outputId": "002b1234-7e0f-46a9-f8e7-c24ff1896c9a"
      },
      "source": [
        "plt.figure(figsize=(10,5))\n",
        "plt.title('HighWay Model Loss')\n",
        "plt.plot(loss_track, label=\"L\")\n",
        "plt.xlabel('epochs')\n",
        "plt.ylabel('loss')\n",
        "plt.legend()\n",
        "plt.show()"
      ],
      "execution_count": 12,
      "outputs": [
        {
          "output_type": "display_data",
          "data": {
            "image/png": "[encoded data removed]",
            "text/plain": [
              "<Figure size 720x360 with 1 Axes>"
            ]
          },
          "metadata": {
            "tags": [],
            "needs_background": "light"
          }
        }
      ]
    },
    {
      "cell_type": "code",
      "metadata": {
        "id": "OtCgO0uuDHHa"
      },
      "source": [
        ""
      ],
      "execution_count": 12,
      "outputs": []
    }
  ]
}