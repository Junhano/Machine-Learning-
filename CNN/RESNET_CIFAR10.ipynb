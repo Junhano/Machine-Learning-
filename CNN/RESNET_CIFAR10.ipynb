{
  "nbformat": 4,
  "nbformat_minor": 0,
  "metadata": {
    "colab": {
      "name": "RESNET_CIFAR10.ipynb",
      "provenance": []
    },
    "kernelspec": {
      "name": "python3",
      "display_name": "Python 3"
    },
    "language_info": {
      "name": "python"
    },
    "accelerator": "GPU"
  },
  "cells": [
    {
      "cell_type": "code",
      "metadata": {
        "id": "qCO8ZI1kXv5_"
      },
      "source": [
        "import torch\n",
        "import torch.nn as nn\n",
        "import torch.optim as optim\n",
        "import matplotlib.pyplot as plt\n",
        "from torchvision import datasets, transforms\n",
        "from torch.utils.data import DataLoader"
      ],
      "execution_count": 1,
      "outputs": []
    },
    {
      "cell_type": "code",
      "metadata": {
        "id": "PQzVemzzY2jB"
      },
      "source": [
        "def same_padding(kernel_size):\n",
        "  import math\n",
        "  return math.floor((kernel_size - 1) / 2)"
      ],
      "execution_count": 2,
      "outputs": []
    },
    {
      "cell_type": "code",
      "metadata": {
        "id": "WtOq1DKIYE2a"
      },
      "source": [
        "class ResidualBlock(nn.Module):\n",
        "  def __init__(self, input_channel, output_channel, kernel_size = 3, padding = 0):\n",
        "    super(ResidualBlock, self).__init__()\n",
        "    self.input_channel = input_channel\n",
        "    self.output_channel = output_channel\n",
        "    self.conv1 = nn.Conv2d(input_channel, input_channel, kernel_size=kernel_size, padding=same_padding(kernel_size))\n",
        "    self.conv2 = nn.Conv2d(input_channel, output_channel, kernel_size=kernel_size, padding=same_padding(kernel_size))\n",
        "    self.relu = nn.ReLU()\n",
        "    self.batchnorm1 = nn.BatchNorm2d(input_channel)\n",
        "    self.batchnorm2 = nn.BatchNorm2d(output_channel)\n",
        "    self.skip = nn.Conv2d(input_channel, output_channel, kernel_size=1)\n",
        "\n",
        "  def forward(self, x):\n",
        "    residual = x\n",
        "    if self.input_channel != self.output_channel:\n",
        "      residual = self.skip(residual)\n",
        "    x = self.conv1(x)\n",
        "    x = self.relu(x)\n",
        "    x = self.batchnorm1(x)\n",
        "    x = self.conv2(x)\n",
        "    x = self.relu(x)\n",
        "    out = x + residual\n",
        "    out = self.batchnorm2(out)\n",
        "    return out"
      ],
      "execution_count": 3,
      "outputs": []
    },
    {
      "cell_type": "code",
      "metadata": {
        "id": "Ri76B7uqaUly"
      },
      "source": [
        "class ResNet(nn.Module):\n",
        "  def __init__(self):\n",
        "    super(ResNet, self).__init__()\n",
        "    self.rn1 = ResidualBlock(3, 16)\n",
        "    self.rn2 = ResidualBlock(16, 32)\n",
        "    self.rn3 = ResidualBlock(32, 64)\n",
        "    self.rn4 = ResidualBlock(64, 128)\n",
        "    self.rn5 = ResidualBlock(128, 256)\n",
        "    self.rn6 = ResidualBlock(256, 128)\n",
        "    self.maxpool = nn.MaxPool2d(2)\n",
        "    self.flatten = nn.Flatten()\n",
        "    self.linear1 = nn.Linear(2048, 128)\n",
        "    self.linear2 = nn.Linear(128, 10)\n",
        "    self.batchnorm1d = nn.BatchNorm1d(128)\n",
        "    self.relu = nn.ReLU()\n",
        "  \n",
        "  def forward(self, x):\n",
        "    out = self.rn1(x)\n",
        "    out = self.rn2(out)\n",
        "    out = self.maxpool(out)\n",
        "    out = self.rn3(out)\n",
        "    out = self.rn4(out)\n",
        "    out = self.maxpool(out)\n",
        "    out = self.rn5(out)\n",
        "    out = self.maxpool(out)\n",
        "    out = self.rn6(out)\n",
        "    out = self.flatten(out)\n",
        "    out = self.linear1(out)\n",
        "    out = self.relu(out)\n",
        "    out = self.batchnorm1d(out)\n",
        "    out = self.linear2(out)\n",
        "    \n",
        "    return out\n"
      ],
      "execution_count": 4,
      "outputs": []
    },
    {
      "cell_type": "code",
      "metadata": {
        "id": "AV128cB8cj0q"
      },
      "source": [
        "T = transforms.Compose([\n",
        "    transforms.RandomCrop(32),\n",
        "    transforms.RandomHorizontalFlip(),\n",
        "    transforms.RandomRotation(20),\n",
        "    transforms.ToTensor(),\n",
        "    transforms.Normalize(0.5, 0.5)\n",
        "])"
      ],
      "execution_count": 5,
      "outputs": []
    },
    {
      "cell_type": "code",
      "metadata": {
        "colab": {
          "base_uri": "https://localhost:8080/"
        },
        "id": "B0h1CPUDagEr",
        "outputId": "fcac80a7-6681-4d0d-f71a-b5a5edc22c0d"
      },
      "source": [
        "cifar10_train = datasets.CIFAR10('./', download=True, transform=T)\n",
        "cifar10_test = datasets.CIFAR10('./', train=False, download=True, transform=T)"
      ],
      "execution_count": 6,
      "outputs": [
        {
          "output_type": "stream",
          "text": [
            "Files already downloaded and verified\n",
            "Files already downloaded and verified\n"
          ],
          "name": "stdout"
        }
      ]
    },
    {
      "cell_type": "code",
      "metadata": {
        "id": "eZ1NuVKtbuFH"
      },
      "source": [
        "train_data_loader = DataLoader(cifar10_train, batch_size=50)\n",
        "test_data_loader = DataLoader(cifar10_test, batch_size = 50)"
      ],
      "execution_count": 7,
      "outputs": []
    },
    {
      "cell_type": "code",
      "metadata": {
        "id": "uxVelypSdyrw"
      },
      "source": [
        "device = 'cuda:0' if torch.cuda.is_available() else 'cpu'\n",
        "RNModel = ResNet().to(device)\n",
        "learning_rate = 0.001\n",
        "criterion = nn.CrossEntropyLoss()\n",
        "optimM = optim.Adam(RNModel.parameters(), lr = learning_rate)"
      ],
      "execution_count": 8,
      "outputs": []
    },
    {
      "cell_type": "code",
      "metadata": {
        "colab": {
          "base_uri": "https://localhost:8080/"
        },
        "id": "-4UqkSZlen1p",
        "outputId": "6892e43c-6475-490f-fc1d-add349de15b8"
      },
      "source": [
        "epochs = 30\n",
        "model_loss_track = []\n",
        "RNModel.train()\n",
        "for i in range(epochs):\n",
        "  for index, (img, label) in enumerate(train_data_loader):\n",
        "    img = img.to(device)\n",
        "    label = label.to(device)\n",
        "\n",
        "    pred = RNModel(img)\n",
        "    model_loss = criterion(pred, label)\n",
        "\n",
        "    model_loss_track.append(model_loss.item())\n",
        "    optimM.zero_grad()\n",
        "    model_loss.backward()\n",
        "    optimM.step()\n",
        "  \n",
        "  if (i + 1) % 20 == 0:\n",
        "    print('reduce Learning Rate')\n",
        "    learning_rate /= 3\n",
        "    for g in optimM.param_groups:\n",
        "      g['lr'] = learning_rate\n",
        "\n",
        "  print('Finish {} Epochs'.format(i + 1))\n",
        "  print(model_loss.item())"
      ],
      "execution_count": 9,
      "outputs": [
        {
          "output_type": "stream",
          "text": [
            "Finish 1 Epochs\n",
            "1.1423726081848145\n",
            "Finish 2 Epochs\n",
            "0.8933972120285034\n",
            "Finish 3 Epochs\n",
            "0.7016841173171997\n",
            "Finish 4 Epochs\n",
            "0.7514293193817139\n",
            "Finish 5 Epochs\n",
            "0.5716493725776672\n",
            "Finish 6 Epochs\n",
            "0.5023756623268127\n",
            "Finish 7 Epochs\n",
            "0.4475986361503601\n",
            "Finish 8 Epochs\n",
            "0.6350506544113159\n",
            "Finish 9 Epochs\n",
            "0.5998473167419434\n",
            "Finish 10 Epochs\n",
            "0.43190357089042664\n",
            "Finish 11 Epochs\n",
            "0.377203106880188\n",
            "Finish 12 Epochs\n",
            "0.28789687156677246\n",
            "Finish 13 Epochs\n",
            "0.18714188039302826\n",
            "Finish 14 Epochs\n",
            "0.333501935005188\n",
            "Finish 15 Epochs\n",
            "0.40169647336006165\n",
            "Finish 16 Epochs\n",
            "0.16835063695907593\n",
            "Finish 17 Epochs\n",
            "0.2846759855747223\n",
            "Finish 18 Epochs\n",
            "0.22314351797103882\n",
            "Finish 19 Epochs\n",
            "0.11662270873785019\n",
            "reduce Learning Rate\n",
            "Finish 20 Epochs\n",
            "0.2442878931760788\n",
            "Finish 21 Epochs\n",
            "0.17545950412750244\n",
            "Finish 22 Epochs\n",
            "0.12623456120491028\n",
            "Finish 23 Epochs\n",
            "0.10121382772922516\n",
            "Finish 24 Epochs\n",
            "0.1242612898349762\n",
            "Finish 25 Epochs\n",
            "0.11607228964567184\n",
            "Finish 26 Epochs\n",
            "0.09912800788879395\n",
            "Finish 27 Epochs\n",
            "0.014952854253351688\n",
            "Finish 28 Epochs\n",
            "0.06830531358718872\n",
            "Finish 29 Epochs\n",
            "0.10551944375038147\n",
            "Finish 30 Epochs\n",
            "0.018215421587228775\n"
          ],
          "name": "stdout"
        }
      ]
    },
    {
      "cell_type": "code",
      "metadata": {
        "colab": {
          "base_uri": "https://localhost:8080/",
          "height": 350
        },
        "id": "83M8AO8SfAlj",
        "outputId": "f6c199ef-3a96-4f46-9369-8cb9b0657173"
      },
      "source": [
        "plt.figure(figsize=(10,5))\n",
        "\n",
        "plt.title('Loss for ResNet Model')\n",
        "plt.plot(model_loss_track, label=\"R\")\n",
        "plt.xlabel(\"Iteration\")\n",
        "plt.ylabel(\"Loss\")\n",
        "plt.legend()\n",
        "plt.show()"
      ],
      "execution_count": 10,
      "outputs": [
        {
          "output_type": "display_data",
          "data": {
            "image/png": "[encoded data removed]",
            "text/plain": [
              "<Figure size 720x360 with 1 Axes>"
            ]
          },
          "metadata": {
            "tags": [],
            "needs_background": "light"
          }
        }
      ]
    },
    {
      "cell_type": "code",
      "metadata": {
        "colab": {
          "base_uri": "https://localhost:8080/"
        },
        "id": "feLrjTzbhImt",
        "outputId": "de3e49ed-e54b-49d3-be05-26de7638a52b"
      },
      "source": [
        "\n",
        "RNModel.eval()\n",
        "with torch.no_grad():\n",
        "  correct = 0\n",
        "  total = 0\n",
        "  for index, (images,label) in enumerate(test_data_loader):\n",
        "    images = images.to(device)\n",
        "    label = label.to(device)\n",
        "\n",
        "    outputs = RNModel(images)\n",
        "    \n",
        "\n",
        "\n",
        "    _,predict = torch.max(outputs, 1)\n",
        "\n",
        "    total += len(label)\n",
        "    correct += (predict == label).sum().item()\n",
        "  print('Accurcy of the model is {}%'.format(100 * (correct/total)))\n",
        "\n",
        "\n"
      ],
      "execution_count": 11,
      "outputs": [
        {
          "output_type": "stream",
          "text": [
            "Accurcy of the model is 86.79%\n"
          ],
          "name": "stdout"
        }
      ]
    },
    {
      "cell_type": "code",
      "metadata": {
        "id": "2fVY_J3Dj0W1"
      },
      "source": [
        ""
      ],
      "execution_count": 11,
      "outputs": []
    }
  ]
}